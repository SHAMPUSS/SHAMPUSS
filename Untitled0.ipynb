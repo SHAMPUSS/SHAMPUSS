{
  "nbformat": 4,
  "nbformat_minor": 0,
  "metadata": {
    "colab": {
      "provenance": [],
      "authorship_tag": "ABX9TyOU6pP+009NN+F1xIMwG6yK",
      "include_colab_link": true
    },
    "kernelspec": {
      "name": "python3",
      "display_name": "Python 3"
    },
    "language_info": {
      "name": "python"
    }
  },
  "cells": [
    {
      "cell_type": "markdown",
      "metadata": {
        "id": "view-in-github",
        "colab_type": "text"
      },
      "source": [
        "<a href=\"https://colab.research.google.com/github/SHAMPUSS/SHAMPUSS/blob/main/Untitled0.ipynb\" target=\"_parent\"><img src=\"https://colab.research.google.com/assets/colab-badge.svg\" alt=\"Open In Colab\"/></a>"
      ]
    },
    {
      "cell_type": "markdown",
      "source": [
        "Библиотека random является одной из самых популярных библиотек для генерации случайных чисел и выполнения других операций, связанных с случайностью. В этой \"лекции\" мы рассмотрим, как установить библиотеку, как импортировать ее и как использовать основные функции для генерации случайных чисел."
      ],
      "metadata": {
        "id": "IVxqMsc6xO5h"
      }
    },
    {
      "cell_type": "markdown",
      "source": [
        "1) Установка библиотеки random:\n",
        "Для начала нам нужно установить библиотеку random. Если вы используете Jupyter или Google Colab, установка может быть выполнена следующим образом:\n"
      ],
      "metadata": {
        "id": "sFlILlEuxbGz"
      }
    },
    {
      "cell_type": "code",
      "source": [
        "!pip install random\n"
      ],
      "metadata": {
        "id": "BCr_GHLmxh50"
      },
      "execution_count": null,
      "outputs": []
    },
    {
      "cell_type": "markdown",
      "source": [
        "2) Импорт библиотеки:\n",
        "После установки мы можем импортировать библиотеку random в нашу программу. Обычно мы используем следующую инструкцию"
      ],
      "metadata": {
        "id": "Itaumg6GxtCa"
      }
    },
    {
      "cell_type": "code",
      "source": [
        "import random"
      ],
      "metadata": {
        "id": "WHCxjufXxzNO"
      },
      "execution_count": null,
      "outputs": []
    },
    {
      "cell_type": "markdown",
      "source": [
        "3)Поставим перед собой задачу сгенерировать случайное число от 1 до 10. Для этого используем функцию random.randint(a, b), где a и b - это границы диапазона генерации чисел."
      ],
      "metadata": {
        "id": "xfVDdOtZx45F"
      }
    },
    {
      "cell_type": "code",
      "source": [
        "import random\n",
        "random_checlo = random.randint(1,10)\n",
        "print(random_checlo)"
      ],
      "metadata": {
        "colab": {
          "base_uri": "https://localhost:8080/"
        },
        "id": "FZdkaC-xyG2V",
        "outputId": "7a433c23-dd14-48e2-edba-fa7e474195c5"
      },
      "execution_count": 6,
      "outputs": [
        {
          "output_type": "stream",
          "name": "stdout",
          "text": [
            "1\n"
          ]
        }
      ]
    },
    {
      "cell_type": "markdown",
      "source": [
        "4) Поставим перед собой задачу вывести букву  самым простым способом с помощью данной библиотеки"
      ],
      "metadata": {
        "id": "yz35rzTxy6Jd"
      }
    },
    {
      "cell_type": "code",
      "source": [
        "random_bykva= random.choice('ABCDEFGHIJKLMNOPQRSTUVWXYZ')\n",
        "print(random_bykva)"
      ],
      "metadata": {
        "colab": {
          "base_uri": "https://localhost:8080/"
        },
        "id": "NABzSGxdzJ5P",
        "outputId": "a1ca7dee-1b4f-4936-8f99-47c47aa29fe0"
      },
      "execution_count": 10,
      "outputs": [
        {
          "output_type": "stream",
          "name": "stdout",
          "text": [
            "P\n"
          ]
        }
      ]
    },
    {
      "cell_type": "markdown",
      "source": [
        "4.1) еще один способ вывести букву это ипсользовать chr(a)- встроенная функция, которая возвращает строку, представляющую символ, кодовая точка которого в Юникоде является указанным целым числом. где a  это указанное число, в нашем случае буква"
      ],
      "metadata": {
        "id": "kf9Mme6h2DDf"
      }
    },
    {
      "cell_type": "markdown",
      "source": [
        "Функция ord() в Python принимает строковый аргумент из одного символа Unicode и возвращает его целочисленное значение кодовой точки.\n"
      ],
      "metadata": {
        "id": "E-x5STJn37q3"
      }
    },
    {
      "cell_type": "code",
      "source": [
        "random_bykva1=chr(random.randint(ord('a'),ord('z')))\n",
        "print(random_bykva1)"
      ],
      "metadata": {
        "colab": {
          "base_uri": "https://localhost:8080/"
        },
        "id": "AsTtUxIU3FFZ",
        "outputId": "f0fa3294-e9ba-4e8b-d35a-11fff3083872"
      },
      "execution_count": 11,
      "outputs": [
        {
          "output_type": "stream",
          "name": "stdout",
          "text": [
            "q\n"
          ]
        }
      ]
    },
    {
      "cell_type": "markdown",
      "source": [
        "Таким образом, мы можем случайным образом сгенерировать значение ASCII одного из алфавитов, а затем преобразовать их в char с помощью функции chr()"
      ],
      "metadata": {
        "id": "SYjNmFQB3hPg"
      }
    },
    {
      "cell_type": "markdown",
      "source": [
        "4.2) мы также можем испльзвать разные модули вместе. в данном случае чтобы вывести букву используем еще модуль string, чтобы самим не искоть таблицу ASCII"
      ],
      "metadata": {
        "id": "eivDnk1H4bE6"
      }
    },
    {
      "cell_type": "code",
      "source": [
        "import string\n",
        "random_bykva2=random.choice(string.ascii_letters)\n",
        "print(random_bykva2)"
      ],
      "metadata": {
        "colab": {
          "base_uri": "https://localhost:8080/"
        },
        "id": "qPXkc5qm3jOt",
        "outputId": "45a0b48e-3e3a-4f16-bfe0-f5bfd9761921"
      },
      "execution_count": 14,
      "outputs": [
        {
          "output_type": "stream",
          "name": "stdout",
          "text": [
            "a\n"
          ]
        }
      ]
    },
    {
      "cell_type": "markdown",
      "source": [
        "Модуль string имеет специальную функцию ascii_letters, которая возвращает строку, содержащую все алфавиты из a-z и A-Z, то есть все строчные и прописные буквы."
      ],
      "metadata": {
        "id": "8JzL5LJf5K42"
      }
    }
  ]
}